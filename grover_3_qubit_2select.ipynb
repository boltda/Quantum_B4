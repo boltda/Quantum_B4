{
 "cells": [
  {
   "cell_type": "code",
   "execution_count": 1,
   "id": "175ccc6b",
   "metadata": {},
   "outputs": [],
   "source": [
    "import matplotlib.pyplot as plt\n",
    "import numpy as np\n",
    "\n",
    "# Qiskit関連のパッケージをインポート\n",
    "from qiskit import IBMQ, Aer, assemble, transpile, QuantumCircuit, ClassicalRegister, QuantumRegister, execute\n",
    "from qiskit.providers.ibmq import least_busy\n",
    "from qiskit.quantum_info import Statevector\n",
    "from qiskit.visualization import plot_histogram\n",
    "from qiskit.tools.monitor import job_monitor\n",
    "from qiskit.circuit.library import MCMT"
   ]
  },
  {
   "cell_type": "code",
   "execution_count": 2,
   "id": "c5f48ecb",
   "metadata": {},
   "outputs": [
    {
     "data": {
      "text/html": [
       "<pre style=\"word-wrap: normal;white-space: pre;background: #fff0;line-height: 1.1;font-family: &quot;Courier New&quot;,Courier,monospace\">           \n",
       "q_0: ─■────\n",
       "      │    \n",
       "q_1: ─┼──■─\n",
       "      │  │ \n",
       "q_2: ─■──■─\n",
       "           </pre>"
      ],
      "text/plain": [
       "           \n",
       "q_0: ─■────\n",
       "      │    \n",
       "q_1: ─┼──■─\n",
       "      │  │ \n",
       "q_2: ─■──■─\n",
       "           "
      ]
     },
     "execution_count": 2,
     "metadata": {},
     "output_type": "execute_result"
    }
   ],
   "source": [
    "# オラクル\n",
    "qc = QuantumCircuit(3)\n",
    "qc.cz(0, 2)\n",
    "qc.cz(1, 2)\n",
    "oracle_ex3 = qc.to_gate()\n",
    "oracle_ex3.name = \"oracle\"\n",
    "qc.draw()"
   ]
  },
  {
   "cell_type": "code",
   "execution_count": 3,
   "id": "6521c8c2",
   "metadata": {},
   "outputs": [],
   "source": [
    "def initialize_s(qc, qubits):\n",
    "    \"\"\"qcの 'qubits' にH-gate を適用\"\"\"\n",
    "    for q in qubits:\n",
    "        qc.h(q)\n",
    "    return qc"
   ]
  },
  {
   "cell_type": "code",
   "execution_count": 4,
   "id": "042a6b3a",
   "metadata": {},
   "outputs": [],
   "source": [
    "def diffuser(nqubits):\n",
    "    qc = QuantumCircuit(nqubits)\n",
    "    # Hゲートで |s> -> |00..0> に変換\n",
    "    for qubit in range(nqubits):\n",
    "        qc.h(qubit)\n",
    "    # Xゲートで |00..0> -> |11..1> に変換\n",
    "    for qubit in range(nqubits):\n",
    "        qc.x(qubit)\n",
    "    # マルチ制御Zゲート z=hxh\n",
    "    qc.h(nqubits-1)\n",
    "    qc.mct(list(range(nqubits-1)), nqubits-1)  # multi-controlled-toffoliの略だが，mcxと同じ\n",
    "    qc.h(nqubits-1)\n",
    "    # |11..1> -> |00..0> に変換\n",
    "    for qubit in range(nqubits):\n",
    "        qc.x(qubit)\n",
    "    # |00..0> -> |s> に変換\n",
    "    for qubit in range(nqubits):\n",
    "        qc.h(qubit)\n",
    "    # Diffuserをゲートにします\n",
    "    diffuser = qc.to_gate()\n",
    "    diffuser.name = \"diffuser\"\n",
    "    return diffuser"
   ]
  },
  {
   "cell_type": "code",
   "execution_count": 5,
   "id": "1382ffb9",
   "metadata": {},
   "outputs": [
    {
     "data": {
      "text/html": [
       "<pre style=\"word-wrap: normal;white-space: pre;background: #fff0;line-height: 1.1;font-family: &quot;Courier New&quot;,Courier,monospace\">        ┌───┐┌─────────┐┌───────────┐ ░ ┌─┐      \n",
       "   q_0: ┤ H ├┤0        ├┤0          ├─░─┤M├──────\n",
       "        ├───┤│         ││           │ ░ └╥┘┌─┐   \n",
       "   q_1: ┤ H ├┤1 oracle ├┤1 diffuser ├─░──╫─┤M├───\n",
       "        ├───┤│         ││           │ ░  ║ └╥┘┌─┐\n",
       "   q_2: ┤ H ├┤2        ├┤2          ├─░──╫──╫─┤M├\n",
       "        └───┘└─────────┘└───────────┘ ░  ║  ║ └╥┘\n",
       "meas: 3/═════════════════════════════════╩══╩══╩═\n",
       "                                         0  1  2 </pre>"
      ],
      "text/plain": [
       "        ┌───┐┌─────────┐┌───────────┐ ░ ┌─┐      \n",
       "   q_0: ┤ H ├┤0        ├┤0          ├─░─┤M├──────\n",
       "        ├───┤│         ││           │ ░ └╥┘┌─┐   \n",
       "   q_1: ┤ H ├┤1 oracle ├┤1 diffuser ├─░──╫─┤M├───\n",
       "        ├───┤│         ││           │ ░  ║ └╥┘┌─┐\n",
       "   q_2: ┤ H ├┤2        ├┤2          ├─░──╫──╫─┤M├\n",
       "        └───┘└─────────┘└───────────┘ ░  ║  ║ └╥┘\n",
       "meas: 3/═════════════════════════════════╩══╩══╩═\n",
       "                                         0  1  2 "
      ]
     },
     "execution_count": 5,
     "metadata": {},
     "output_type": "execute_result"
    }
   ],
   "source": [
    "n = 3\n",
    "grover_circuit = QuantumCircuit(n)\n",
    "grover_circuit = initialize_s(grover_circuit, [0,1,2])\n",
    "grover_circuit.append(oracle_ex3, [0,1,2])\n",
    "grover_circuit.append(diffuser(n), [0,1,2])\n",
    "grover_circuit.measure_all()\n",
    "grover_circuit.draw()"
   ]
  },
  {
   "cell_type": "code",
   "execution_count": 6,
   "id": "d3048070",
   "metadata": {},
   "outputs": [
    {
     "data": {
      "image/png": "[encoded data removed]",
      "text/plain": [
       "<Figure size 504x360 with 1 Axes>"
      ]
     },
     "execution_count": 6,
     "metadata": {},
     "output_type": "execute_result"
    }
   ],
   "source": [
    "aer_sim = Aer.get_backend('aer_simulator')\n",
    "transpiled_grover_circuit = transpile(grover_circuit, aer_sim)\n",
    "qobj = assemble(transpiled_grover_circuit)\n",
    "results = aer_sim.run(qobj).result()\n",
    "counts = results.get_counts()\n",
    "plot_histogram(counts)"
   ]
  },
  {
   "cell_type": "code",
   "execution_count": null,
   "id": "4dff1b82",
   "metadata": {},
   "outputs": [],
   "source": []
  }
 ],
 "metadata": {
  "kernelspec": {
   "display_name": "Python 3 (ipykernel)",
   "language": "python",
   "name": "python3"
  },
  "language_info": {
   "codemirror_mode": {
    "name": "ipython",
    "version": 3
   },
   "file_extension": ".py",
   "mimetype": "text/x-python",
   "name": "python",
   "nbconvert_exporter": "python",
   "pygments_lexer": "ipython3",
   "version": "3.9.12"
  }
 },
 "nbformat": 4,
 "nbformat_minor": 5
}
