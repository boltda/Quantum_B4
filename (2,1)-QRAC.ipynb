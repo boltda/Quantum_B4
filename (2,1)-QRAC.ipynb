{
 "cells": [
  {
   "cell_type": "code",
   "execution_count": 1,
   "id": "c3f0fd32",
   "metadata": {},
   "outputs": [],
   "source": [
    "# useful math functions\n",
    "from math import pi\n",
    "\n",
    "# importing QISKit\n",
    "from qiskit import Aer, IBMQ\n",
    "from qiskit import QuantumCircuit, ClassicalRegister, QuantumRegister, execute\n",
    "from qiskit.tools.visualization import plot_histogram\n",
    "from qiskit.tools.monitor import job_monitor\n",
    "from qiskit.providers.ibmq import least_busy"
   ]
  },
  {
   "cell_type": "code",
   "execution_count": 2,
   "id": "6c16f38c",
   "metadata": {},
   "outputs": [
    {
     "name": "stdout",
     "output_type": "stream",
     "text": [
      "List of circuit names: ['Encode00DecodeFirst', 'Encode00DecodeSecond', 'Encode01DecodeFirst', 'Encode01DecodeSecond', 'Encode10DecodeFirst', 'Encode10DecodeSecond', 'Encode11DecodeFirst', 'Encode11DecodeSecond']\n"
     ]
    },
    {
     "name": "stderr",
     "output_type": "stream",
     "text": [
      "/var/folders/bf/_nrjpw3d0qj07jxnm2dzyyc00000gn/T/ipykernel_94491/2428588338.py:26: DeprecationWarning: The QuantumCircuit.u3 method is deprecated as of 0.16.0. It will be removed no earlier than 3 months after the release date. You should use QuantumCircuit.u instead, which acts identically. Alternatively, you can decompose u3 in terms of QuantumCircuit.p and QuantumCircuit.sx: u3(ϴ,φ,λ) = p(φ+π) sx p(ϴ+π) sx p(λ) (2 pulses on hardware).\n",
      "  encodingCircuits[circuitName].u3(rotationNumbers[bit]*pi/4.0, 0, 0, qr[0])\n",
      "/var/folders/bf/_nrjpw3d0qj07jxnm2dzyyc00000gn/T/ipykernel_94491/2428588338.py:45: DeprecationWarning: The QuantumCircuit.__add__() method is being deprecated.Use the compose() method which is more flexible w.r.t circuit register compatibility.\n",
      "  circuits.append(encodingCircuits[k1]+decodingCircuits[k2])\n"
     ]
    }
   ],
   "source": [
    "backend = Aer.get_backend('qasm_simulator') # the device to run on\n",
    "shots = 1024    # the number of shots in the experiment \n",
    "\n",
    "#to record the rotation number for encoding 00, 10, 11, 01\n",
    "rotationNumbers = {\"00\":1, \"10\":3, \"11\":5, \"01\":7}\n",
    "rotationList = ['00', '01', '10', '11']\n",
    "positionList = ['First', 'Second']\n",
    "# Creating registers\n",
    "\n",
    "# qubit for encoding 2 bits of information\n",
    "qr = QuantumRegister(1)\n",
    "\n",
    "# cbit for recording the measurement of the qubit\n",
    "cr = ClassicalRegister(1)\n",
    "\n",
    "# dictionary for encoding circuits\n",
    "encodingCircuits = {}\n",
    "# Quantum circuits for encoding 00, 10, 11, 01\n",
    "for bit in rotationList:\n",
    "    circuitName = \"Encode\"+ bit\n",
    "    encodingCircuits[circuitName] = QuantumCircuit(qr, cr, name=circuitName)\n",
    "    encodingCircuits[circuitName].u3(rotationNumbers[bit]*pi/4.0, 0, 0, qr[0])\n",
    "    encodingCircuits[circuitName].barrier()\n",
    "\n",
    "# dictionary for decoding circuits\n",
    "decodingCircuits = {}\n",
    "# Quantum circuits for decoding the first and second bit\n",
    "for pos in positionList:\n",
    "    circuitName = \"Decode\"+pos\n",
    "    decodingCircuits[circuitName] = QuantumCircuit(qr, cr, name=circuitName)\n",
    "    if pos == \"Second\": #if pos == \"First\" we can directly measure\n",
    "        decodingCircuits[circuitName].h(qr[0])\n",
    "    decodingCircuits[circuitName].measure(qr[0], cr[0])\n",
    "\n",
    "#combine encoding and decoding of QRACs to get a list of complete circuits\n",
    "circuitNames = []\n",
    "circuits = []\n",
    "for k1 in encodingCircuits.keys():\n",
    "    for k2 in decodingCircuits.keys():\n",
    "        circuitNames.append(k1+k2)\n",
    "        circuits.append(encodingCircuits[k1]+decodingCircuits[k2])\n",
    "\n",
    "print(\"List of circuit names:\", circuitNames) #list of circuit names"
   ]
  },
  {
   "cell_type": "code",
   "execution_count": 11,
   "id": "00e33da7",
   "metadata": {},
   "outputs": [
    {
     "name": "stdout",
     "output_type": "stream",
     "text": [
      "Experimental Result of Encode01DecodeFirst\n"
     ]
    },
    {
     "data": {
      "text/html": [
       "<pre style=\"word-wrap: normal;white-space: pre;background: #fff0;line-height: 1.1;font-family: &quot;Courier New&quot;,Courier,monospace\">      ┌──────────────┐ ░ ┌─┐\n",
       "  q0: ┤ U3(7π/4,0,0) ├─░─┤M├\n",
       "      └──────────────┘ ░ └╥┘\n",
       "c0: 1/════════════════════╩═\n",
       "                          0 </pre>"
      ],
      "text/plain": [
       "      ┌──────────────┐ ░ ┌─┐\n",
       "  q0: ┤ U3(7π/4,0,0) ├─░─┤M├\n",
       "      └──────────────┘ ░ └╥┘\n",
       "c0: 1/════════════════════╩═\n",
       "                          0 "
      ]
     },
     "execution_count": 11,
     "metadata": {},
     "output_type": "execute_result"
    }
   ],
   "source": [
    "job = execute(circuits, backend=backend, shots=shots)\n",
    "results = job.result()\n",
    "print(\"Experimental Result of Encode01DecodeFirst\")\n",
    "#We should measure \"0\" with probability 0.85\n",
    "circuits[circuitNames.index(\"Encode01DecodeFirst\")].draw()"
   ]
  },
  {
   "cell_type": "code",
   "execution_count": 12,
   "id": "d1bc5a9d",
   "metadata": {},
   "outputs": [
    {
     "data": {
      "image/png": "[encoded data removed]",
      "text/plain": [
       "<Figure size 504x360 with 1 Axes>"
      ]
     },
     "execution_count": 12,
     "metadata": {},
     "output_type": "execute_result"
    }
   ],
   "source": [
    "plot_histogram(results.get_counts(circuits[circuitNames.index(\"Encode01DecodeFirst\")]))"
   ]
  },
  {
   "cell_type": "code",
   "execution_count": null,
   "id": "91c568af",
   "metadata": {},
   "outputs": [],
   "source": [
    "print(\"Experimental Result of Encode01DecodeSecond\")\n",
    "#We should measure \"1\" with probability 0.85\n",
    "plot_histogram(results.get_counts(circuits[circuitNames.index(\"Encode01DecodeSecond\")]))\n",
    "print(\"Experimental Result of Encode11DecodeFirst\")\n",
    "#We should measure \"1\" with probability 0.85\n",
    "plot_histogram(results.get_counts(circuits[circuitNames.index(\"Encode11DecodeFirst\")]))\n",
    "print(\"Experimental Result of Encode11DecodeSecond\")\n",
    "#We should measure \"1\" with probability 0.85\n",
    "plot_histogram(results.get_counts(circuits[circuitNames.index(\"Encode11DecodeSecond\")]))"
   ]
  },
  {
   "cell_type": "code",
   "execution_count": 5,
   "id": "56939e6d",
   "metadata": {},
   "outputs": [
    {
     "name": "stdout",
     "output_type": "stream",
     "text": [
      "Job Status: job has successfully run\n"
     ]
    }
   ],
   "source": [
    "# Use the IBM Quantum Experience\n",
    "# backend = least_busy(IBMQ.backends(simulator=False))\n",
    "job_exp = execute(circuits, backend=backend, shots=shots)\n",
    "job_monitor(job_exp)"
   ]
  },
  {
   "cell_type": "code",
   "execution_count": 6,
   "id": "10bd7c55",
   "metadata": {},
   "outputs": [
    {
     "name": "stdout",
     "output_type": "stream",
     "text": [
      "Experimental Result of Encode01DecodeFirst\n"
     ]
    },
    {
     "data": {
      "image/png": "[encoded data removed]",
      "text/plain": [
       "<Figure size 504x360 with 1 Axes>"
      ]
     },
     "execution_count": 6,
     "metadata": {},
     "output_type": "execute_result"
    }
   ],
   "source": [
    "results = job_exp.result()\n",
    "print(\"Experimental Result of Encode01DecodeFirst\")\n",
    "#We should measure \"0\" with probability 0.85\n",
    "plot_histogram(results.get_counts(circuits[circuitNames.index(\"Encode01DecodeFirst\")]))"
   ]
  },
  {
   "cell_type": "code",
   "execution_count": 7,
   "id": "282c8f47",
   "metadata": {},
   "outputs": [
    {
     "name": "stdout",
     "output_type": "stream",
     "text": [
      "Experimental Result of Encode01DecodeSecond\n"
     ]
    },
    {
     "data": {
      "image/png": "[encoded data removed]",
      "text/plain": [
       "<Figure size 504x360 with 1 Axes>"
      ]
     },
     "execution_count": 7,
     "metadata": {},
     "output_type": "execute_result"
    }
   ],
   "source": [
    "print(\"Experimental Result of Encode01DecodeSecond\")\n",
    "#We should measure \"1\" with probability 0.85\n",
    "plot_histogram(results.get_counts(circuits[circuitNames.index(\"Encode01DecodeSecond\")]))"
   ]
  },
  {
   "cell_type": "code",
   "execution_count": null,
   "id": "69211ea0",
   "metadata": {},
   "outputs": [],
   "source": []
  }
 ],
 "metadata": {
  "kernelspec": {
   "display_name": "Python 3 (ipykernel)",
   "language": "python",
   "name": "python3"
  },
  "language_info": {
   "codemirror_mode": {
    "name": "ipython",
    "version": 3
   },
   "file_extension": ".py",
   "mimetype": "text/x-python",
   "name": "python",
   "nbconvert_exporter": "python",
   "pygments_lexer": "ipython3",
   "version": "3.9.12"
  }
 },
 "nbformat": 4,
 "nbformat_minor": 5
}
