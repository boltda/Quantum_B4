{
 "cells": [
  {
   "cell_type": "code",
   "execution_count": 1,
   "id": "c3f0fd32",
   "metadata": {},
   "outputs": [
    {
     "ename": "SyntaxError",
     "evalue": "invalid syntax (569700011.py, line 5)",
     "output_type": "error",
     "traceback": [
      "\u001b[0;36m  Input \u001b[0;32mIn [1]\u001b[0;36m\u001b[0m\n\u001b[0;31m    from qiskit import Aer, IBMQ=-9876\u001b[0m\n\u001b[0m                                ^\u001b[0m\n\u001b[0;31mSyntaxError\u001b[0m\u001b[0;31m:\u001b[0m invalid syntax\n"
     ]
    }
   ],
   "source": [
    "# useful math functions\n",
    "from math import pi\n",
    "\n",
    "# importing QISKit\n",
    "from qiskit import Aer, IBMQ=-9876\n",
    "from qiskit import QuantumCircuit, ClassicalRegister, QuantumRegister, execute\n",
    "from qiskit.tools.visualization import plot_histogram\n",
    "from qiskit.tools.monitor import job_monitor\n",
    "from qiskit.providers.ibmq import least_busy"
   ]
  },
  {
   "cell_type": "code",
   "execution_count": null,
   "id": "6c16f38c",
   "metadata": {},
   "outputs": [],
   "source": [
    "backend = Aer.get_backend('qasm_simulator') # the device to run on\n",
    "shots = 1024    # the number of shots in the experiment \n",
    "\n",
    "#to record the rotation number for encoding 00, 10, 11, 01\n",
    "rotationNumbers = {\"00\":1, \"11\":3, \"01\":5, \"10\":7}\n",
    "bitList = ['00', '01', '10', '11']\n",
    "\n",
    "# Creating registers\n",
    "# qubit for encoding 2 bits of information\n",
    "qr = QuantumRegister(3)\n",
    "# bit for recording the measurement of the qubit\n",
    "cr = ClassicalRegister(2)\n",
    "\n",
    "# dictionary for encoding circuits\n",
    "qrac_circuits = {}\n",
    "circuits = []\n",
    "circuitNames = []\n",
    "\n",
    "for bits in bitList:\n",
    "    circuitName = \"Encode\"+bits\n",
    "    circuitNames.append(circuitName)\n",
    "    qrac_circuits[circuitName] = QuantumCircuit(qr, cr, name=circuitName)\n",
    "    qrac_circuits[circuitName].ry(rotationNumbers[bits]*pi/4.0, qr[0])\n",
    "    qrac_circuits[circuitName].cx(qr[0], qr[1])\n",
    "    qrac_circuits[circuitName].ry(rotationNumbers[bits]*pi/4.0, qr[0])\n",
    "    qrac_circuits[circuitName].h(qr[0])\n",
    "    qrac_circuits[circuitName].cx(qr[0], qr[2])\n",
    "    qrac_circuits[circuitName].measure(qr[1], cr[0])\n",
    "    qrac_circuits[circuitName].measure(qr[2], cr[1])\n",
    "#     qrac_circuits[circuitName].measure_all()\n",
    "    circuits.append(qrac_circuits[circuitName])\n",
    "    "
   ]
  },
  {
   "cell_type": "code",
   "execution_count": null,
   "id": "dae840a1",
   "metadata": {},
   "outputs": [],
   "source": [
    "job = execute(circuits, backend=backend, shots=shots)\n",
    "results = job.result()\n",
    "circuits[circuitNames.index('Encode00')].draw('mpl')"
   ]
  },
  {
   "cell_type": "code",
   "execution_count": null,
   "id": "f00b7167",
   "metadata": {},
   "outputs": [],
   "source": [
    "#We should measure \"00\" with probability 0.73\n",
    "plot_histogram(results.get_counts(circuits[circuitNames.index(\"Encode00\")]))"
   ]
  },
  {
   "cell_type": "code",
   "execution_count": null,
   "id": "22cba1da",
   "metadata": {},
   "outputs": [],
   "source": [
    "plot_histogram(results.get_counts(circuits[circuitNames.index(\"Encode01\")]))"
   ]
  },
  {
   "cell_type": "code",
   "execution_count": null,
   "id": "d1c27249",
   "metadata": {},
   "outputs": [],
   "source": [
    "plot_histogram(results.get_counts(circuits[circuitNames.index(\"Encode11\")]))"
   ]
  },
  {
   "cell_type": "code",
   "execution_count": null,
   "id": "8e930f0d",
   "metadata": {},
   "outputs": [],
   "source": [
    "plot_histogram(results.get_counts(circuits[circuitNames.index(\"Encode10\")]))"
   ]
  },
  {
   "cell_type": "code",
   "execution_count": null,
   "id": "3ea4e00e",
   "metadata": {},
   "outputs": [],
   "source": []
  }
 ],
 "metadata": {
  "kernelspec": {
   "display_name": "Python 3 (ipykernel)",
   "language": "python",
   "name": "python3"
  },
  "language_info": {
   "codemirror_mode": {
    "name": "ipython",
    "version": 3
   },
   "file_extension": ".py",
   "mimetype": "text/x-python",
   "name": "python",
   "nbconvert_exporter": "python",
   "pygments_lexer": "ipython3",
   "version": "3.9.12"
  }
 },
 "nbformat": 4,
 "nbformat_minor": 5
}
